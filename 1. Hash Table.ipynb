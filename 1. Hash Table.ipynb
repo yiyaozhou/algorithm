{
 "cells": [
  {
   "cell_type": "markdown",
   "metadata": {},
   "source": [
    "## Dictionary"
   ]
  },
  {
   "cell_type": "code",
   "execution_count": 10,
   "metadata": {},
   "outputs": [],
   "source": [
    "grades = {'Anna': 'B', 'John': 'A', 'Hannah': 'C'}\n",
    "\n",
    "# add an entry / change value of a entry\n",
    "grades['Blah'] = 'A'\n",
    "\n",
    "# check if key in the entry\n",
    "'Anna' in grades\n",
    "'Black' in grades\n",
    "\n",
    "# delete an entry\n",
    "del grades['Anna']\n",
    "\n",
    "# get all keys as a list\n",
    "grades.keys()\n",
    "\n",
    "# get all values as a list\n",
    "grades.values()"
   ]
  },
  {
   "cell_type": "code",
   "execution_count": 13,
   "metadata": {},
   "outputs": [
    {
     "data": {
      "text/plain": [
       "{'bed': 1, 'tree': 1, 'you': 2}"
      ]
     },
     "execution_count": 13,
     "metadata": {},
     "output_type": "execute_result"
    }
   ],
   "source": [
    "# Count Word Occurrences\n",
    "def words_to_freq(words):\n",
    "    my_dict = {}\n",
    "    for word in words:\n",
    "        if word in my_dict:\n",
    "            my_dict[word] += 1\n",
    "        else:\n",
    "            my_dict[word] = 1\n",
    "    return my_dict\n",
    "\n",
    "# time complexity: O(n)\n",
    "words = ['bed', 'tree', 'you', 'you']\n",
    "dict = words_to_freq(words)\n",
    "dict"
   ]
  },
  {
   "cell_type": "code",
   "execution_count": 14,
   "metadata": {},
   "outputs": [],
   "source": [
    "# Find the most frequent word\n",
    "Freqs = {'bed': 2, 'bird': 1, 'toy': 3, 'good': 3}\n",
    "\n",
    "# yiyao-solution: didn't consider multiple words have same freq\n",
    "def most_freq_word1(freq_dict):\n",
    "    freq = 0\n",
    "    for i in Freqs:\n",
    "        if Freqs[i] > freq:\n",
    "            freq = Freqs[i]\n",
    "            word = i\n",
    "    return word\n",
    "\n",
    "most_freq_word(Freqs)\n",
    "\n",
    "def most_freq_word2(freq_dict):\n",
    "    values = freq_dict.values()\n",
    "    best = max(value) #O(n)\n",
    "    words = []\n",
    "    for k in freq_dict:  #O(n)\n",
    "        if freq_dict[k] == best:\n",
    "            words.append(k)\n",
    "    return(words, best)\n",
    "\n",
    "# time complexity: O(n)\n",
    "# space complexity: O(n)"
   ]
  },
  {
   "cell_type": "code",
   "execution_count": null,
   "metadata": {},
   "outputs": [],
   "source": [
    "Dictionay comprehonsion\n",
    "{key_expression: value_expression for value in collection if condition}"
   ]
  },
  {
   "cell_type": "code",
   "execution_count": 26,
   "metadata": {},
   "outputs": [
    {
     "data": {
      "text/plain": [
       "{'a': 17, 'b': 34, 'z': 3}"
      ]
     },
     "execution_count": 26,
     "metadata": {},
     "output_type": "execute_result"
    }
   ],
   "source": [
    "# ex.1 combine lower/upper case freqency\n",
    "my_dict = {'a': 10, 'b': 34, 'A': 7, 'Z': 3}\n",
    "new_dict = {\n",
    "    k.lower(): my_dict.get(k.lower(), 0) + my_dict.get(k.upper(), 0) for k in my_dict.keys()\n",
    "}\n",
    "new_dict"
   ]
  },
  {
   "cell_type": "code",
   "execution_count": 27,
   "metadata": {},
   "outputs": [
    {
     "data": {
      "text/plain": [
       "{10: 'a', 34: 'b', 7: 'A', 3: 'Z'}"
      ]
     },
     "execution_count": 27,
     "metadata": {},
     "output_type": "execute_result"
    }
   ],
   "source": [
    "# ex.2 exchange keys and values(no duplicate in the values)\n",
    "my_dict = {'a': 10, 'b': 34, 'A': 7, 'Z': 3}\n",
    "new_dict = {my_dict.get(k): k for k in my_dict}\n",
    "# new_dict = {v: k for k, v in my_dict.items()}\n",
    "new_dict"
   ]
  },
  {
   "cell_type": "code",
   "execution_count": 28,
   "metadata": {},
   "outputs": [
    {
     "data": {
      "text/plain": [
       "dict_items([(10, 'a'), (34, 'b'), (7, 'A'), (3, 'Z')])"
      ]
     },
     "execution_count": 28,
     "metadata": {},
     "output_type": "execute_result"
    }
   ],
   "source": [
    "new_dict.items()"
   ]
  },
  {
   "cell_type": "markdown",
   "metadata": {},
   "source": [
    "## Set"
   ]
  },
  {
   "cell_type": "code",
   "execution_count": 49,
   "metadata": {},
   "outputs": [
    {
     "data": {
      "text/plain": [
       "{'c', 'd'}"
      ]
     },
     "execution_count": 49,
     "metadata": {},
     "output_type": "execute_result"
    }
   ],
   "source": [
    "x = {'a', 'b', 'c', 'd'}\n",
    "\n",
    "# add one element\n",
    "x.add('e')\n",
    "# add multiple elements\n",
    "x.update({'e', 'f'})\n",
    "\n",
    "# delete an element\n",
    "x.remove('a')\n",
    "# x.discard('a')\n",
    "# delete a random element\n",
    "x.pop()\n",
    "# clear elements from set\n",
    "# x.clear()\n",
    "\n",
    "# union two sets\n",
    "x = set(['a', 'b', 'c', 'd'])\n",
    "y = set(['a', 'b', 'e', 'f'])\n",
    "x.union(y)\n",
    "# difference between two sets\n",
    "x.difference(y) # in x but not in y\n",
    "y.difference(x) # in y but not in x\n",
    "\n",
    "# subset\n",
    "x = set(['a', 'b', 'c', 'd'])\n",
    "y = set(['a', 'b'])\n",
    "x.issubset(y)\n",
    "y.issubset(x)\n",
    "\n",
    "# suepr-set\n",
    "x = set(['a', 'b', 'c', 'd'])\n",
    "y = set(['a', 'b'])\n",
    "x.issuperset(y)\n",
    "\n",
    "# intersection\n",
    "x = set(['a', 'b', 'c', 'd'])\n",
    "y = set(['a', 'b'])\n",
    "x.intersection(y)\n",
    "\n",
    "'a' in x\n",
    "'a' not in x\n",
    "x == y\n",
    "x != y\n",
    "x <= y\n",
    "x > y\n",
    "x | y #union\n",
    "x & y #intersection\n",
    "x - y #difference\n",
    "x ^ y #non-common elements"
   ]
  },
  {
   "cell_type": "code",
   "execution_count": 37,
   "metadata": {},
   "outputs": [
    {
     "data": {
      "text/plain": [
       "False"
      ]
     },
     "execution_count": 37,
     "metadata": {},
     "output_type": "execute_result"
    }
   ],
   "source": [
    "Set comprehension\n",
    "{expression for value in collection if condition}"
   ]
  },
  {
   "cell_type": "code",
   "execution_count": 52,
   "metadata": {},
   "outputs": [
    {
     "data": {
      "text/plain": [
       "{1, 4}"
      ]
     },
     "execution_count": 52,
     "metadata": {},
     "output_type": "execute_result"
    }
   ],
   "source": [
    "squared = {x**2 for x in [1,2,2]}\n",
    "squared"
   ]
  },
  {
   "cell_type": "markdown",
   "metadata": {},
   "source": [
    "### Leetcode 1: Two Sum\n",
    "\n",
    "Given an array of integers, return indices of the two numbers such that they add up to a specific target.\n",
    "You may assume that each input would have exactly one solution, and you may not use the same element twice."
   ]
  },
  {
   "cell_type": "code",
   "execution_count": 70,
   "metadata": {},
   "outputs": [],
   "source": [
    "target = 10\n",
    "nums = [1, 2, 3, 6, 7]"
   ]
  },
  {
   "cell_type": "code",
   "execution_count": 102,
   "metadata": {},
   "outputs": [],
   "source": [
    "def two_sum(target, nums):\n",
    "    table = {}\n",
    "    for i in range(len(nums)):\n",
    "        if nums[i] not in table:\n",
    "            table[target - nums[i]] = i\n",
    "        else:\n",
    "            indices = [table[nums[i]], i]\n",
    "    return indices"
   ]
  },
  {
   "cell_type": "code",
   "execution_count": 103,
   "metadata": {},
   "outputs": [
    {
     "data": {
      "text/plain": [
       "[2, 4]"
      ]
     },
     "execution_count": 103,
     "metadata": {},
     "output_type": "execute_result"
    }
   ],
   "source": [
    "two_sum(target, nums)"
   ]
  },
  {
   "cell_type": "markdown",
   "metadata": {},
   "source": [
    "### Leetcode 560: Subarray Sum Equals K\n",
    "\n",
    "Given an array of integers and an integer k, you need to find the total number of continuous subarrays whose sum equals to k."
   ]
  },
  {
   "cell_type": "code",
   "execution_count": 126,
   "metadata": {},
   "outputs": [],
   "source": [
    "nums = [1, 6, 5, 2, 3, 4, 0]\n",
    "k = 7"
   ]
  },
  {
   "cell_type": "code",
   "execution_count": 127,
   "metadata": {},
   "outputs": [],
   "source": [
    "def subarraySum(nums, k):\n",
    "    table = {}"
   ]
  },
  {
   "cell_type": "code",
   "execution_count": 128,
   "metadata": {},
   "outputs": [],
   "source": [
    "prefixSum = [1, 7, 12, 14, 17, 21, 21]"
   ]
  },
  {
   "cell_type": "code",
   "execution_count": 129,
   "metadata": {},
   "outputs": [],
   "source": [
    "table = {}\n",
    "sums = 0\n",
    "count = 0\n"
   ]
  },
  {
   "cell_type": "code",
   "execution_count": 130,
   "metadata": {},
   "outputs": [],
   "source": [
    "for num in nums:\n",
    "    if sums - k not in table:\n",
    "        table[sums] = 0\n",
    "        table[sums] = table[sums] + 1\n",
    "        sums = sums + num\n",
    "    else:\n",
    "        count = count + table[sums-k]\n",
    "    "
   ]
  },
  {
   "cell_type": "code",
   "execution_count": 131,
   "metadata": {},
   "outputs": [
    {
     "data": {
      "text/plain": [
       "{0: 1, 1: 1}"
      ]
     },
     "execution_count": 131,
     "metadata": {},
     "output_type": "execute_result"
    }
   ],
   "source": [
    "table"
   ]
  },
  {
   "cell_type": "markdown",
   "metadata": {},
   "source": [
    "### Leetcode 692. Top K Frequent Words\n",
    "\n",
    "Given a non-empty list of words, return the k most frequent elements.\n",
    "\n",
    "Your answer should be sorted by frequency from highest to lowest. If two words have the same frequency, then the word with the lower alphabetical order comes first."
   ]
  },
  {
   "cell_type": "code",
   "execution_count": 157,
   "metadata": {},
   "outputs": [],
   "source": [
    "words = [\"i\", \"love\", \"leetcode\", \"i\", \"love\", \"coding\"]\n",
    "k = 2\n",
    "# solution: dictionary + heap\n",
    "# key = word_i, value = count for word_i\n"
   ]
  },
  {
   "cell_type": "code",
   "execution_count": 158,
   "metadata": {},
   "outputs": [],
   "source": [
    "def topKFrequent(words, k):\n",
    "    freq = {}\n",
    "    # step 1\n",
    "    for word in words:\n",
    "        if word not in freq:\n",
    "            freq[word] = 1\n",
    "        else:\n",
    "            freq[word] += 1\n",
    "    # step 2\n",
    "    heap = []\n",
    "    for key in freq.keys():\n",
    "        heapq.heappush(heap, (-freq[key], key))\n",
    "    # step 3\n",
    "    topk = []\n",
    "    for i in range(0, k):\n",
    "        topk.append(heapq.heappop(heap)[1])\n",
    "    return topk"
   ]
  },
  {
   "cell_type": "code",
   "execution_count": 159,
   "metadata": {},
   "outputs": [
    {
     "data": {
      "text/plain": [
       "['i', 'love']"
      ]
     },
     "execution_count": 159,
     "metadata": {},
     "output_type": "execute_result"
    }
   ],
   "source": [
    "topKFrequent(words, k)"
   ]
  },
  {
   "cell_type": "code",
   "execution_count": 156,
   "metadata": {},
   "outputs": [
    {
     "data": {
      "text/plain": [
       "['i', 'love']"
      ]
     },
     "execution_count": 156,
     "metadata": {},
     "output_type": "execute_result"
    }
   ],
   "source": [
    "topk"
   ]
  },
  {
   "cell_type": "code",
   "execution_count": 152,
   "metadata": {},
   "outputs": [],
   "source": [
    "import heapq"
   ]
  },
  {
   "cell_type": "code",
   "execution_count": 148,
   "metadata": {},
   "outputs": [
    {
     "data": {
      "text/plain": [
       "(-1, 'coding')"
      ]
     },
     "execution_count": 148,
     "metadata": {},
     "output_type": "execute_result"
    }
   ],
   "source": [
    "heapq.heappop(heap)"
   ]
  },
  {
   "cell_type": "code",
   "execution_count": null,
   "metadata": {},
   "outputs": [],
   "source": []
  }
 ],
 "metadata": {
  "kernelspec": {
   "display_name": "Python 3",
   "language": "python",
   "name": "python3"
  },
  "language_info": {
   "codemirror_mode": {
    "name": "ipython",
    "version": 3
   },
   "file_extension": ".py",
   "mimetype": "text/x-python",
   "name": "python",
   "nbconvert_exporter": "python",
   "pygments_lexer": "ipython3",
   "version": "3.6.5"
  }
 },
 "nbformat": 4,
 "nbformat_minor": 2
}
